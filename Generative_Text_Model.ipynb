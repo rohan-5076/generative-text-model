{
  "nbformat": 4,
  "nbformat_minor": 0,
  "metadata": {
    "colab": {
      "provenance": [],
      "authorship_tag": "ABX9TyNM1ioADAnBIbl/A2s6NjYq",
      "include_colab_link": true
    },
    "kernelspec": {
      "name": "python3",
      "display_name": "Python 3"
    },
    "language_info": {
      "name": "python"
    }
  },
  "cells": [
    {
      "cell_type": "markdown",
      "metadata": {
        "id": "view-in-github",
        "colab_type": "text"
      },
      "source": [
        "<a href=\"https://colab.research.google.com/github/rohan-5076/generative-text-model/blob/main/Generative_Text_Model.ipynb\" target=\"_parent\"><img src=\"https://colab.research.google.com/assets/colab-badge.svg\" alt=\"Open In Colab\"/></a>"
      ]
    },
    {
      "cell_type": "code",
      "execution_count": null,
      "metadata": {
        "id": "RIxf6agIPMiU"
      },
      "outputs": [],
      "source": [
        "!pip install transformers\n",
        "\n"
      ]
    },
    {
      "cell_type": "code",
      "source": [
        "from transformers import pipeline, set_seed\n"
      ],
      "metadata": {
        "id": "Nb5awArVP4ya"
      },
      "execution_count": null,
      "outputs": []
    },
    {
      "cell_type": "code",
      "source": [
        "generator = pipeline('text-generation', model='gpt2')\n",
        "set_seed(42)  # Set random seed for reproducibility\n",
        "\n"
      ],
      "metadata": {
        "id": "BM-L_qKlQMIQ"
      },
      "execution_count": null,
      "outputs": []
    },
    {
      "cell_type": "code",
      "source": [
        "# You can enter your own topic here\n",
        "prompt = input(\"Enter a topic to generate text: \")\n"
      ],
      "metadata": {
        "id": "k93j5JDoQna5"
      },
      "execution_count": null,
      "outputs": []
    },
    {
      "cell_type": "code",
      "source": [
        "output = generator(prompt, max_length=150, num_return_sequences=1)\n"
      ],
      "metadata": {
        "id": "8LCsA3vzRFDi"
      },
      "execution_count": null,
      "outputs": []
    },
    {
      "cell_type": "code",
      "source": [
        "print(\"Generated Paragraph:\\n\")\n",
        "print(output[0]['generated_text'])\n"
      ],
      "metadata": {
        "id": "4A8HNdOyRNcu"
      },
      "execution_count": null,
      "outputs": []
    }
  ]
}